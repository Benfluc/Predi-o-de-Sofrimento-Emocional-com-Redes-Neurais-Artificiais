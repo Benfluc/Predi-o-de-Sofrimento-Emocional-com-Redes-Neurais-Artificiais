{
 "cells": [
  {
   "cell_type": "code",
   "execution_count": 1,
   "id": "9cdba315-376f-416e-8316-588458078e84",
   "metadata": {},
   "outputs": [],
   "source": [
    "#Importação das bibliotecas necessárias\n",
    "import pandas as pd\n",
    "from sklearn.model_selection import train_test_split\n",
    "from sklearn.preprocessing import StandardScaler\n",
    "from sklearn.neural_network import MLPClassifier\n",
    "from sklearn.metrics import confusion_matrix, classification_report\n",
    "from imblearn.over_sampling import SMOTE\n",
    "from sklearn.ensemble import RandomForestClassifier"
   ]
  },
  {
   "cell_type": "code",
   "execution_count": 2,
   "id": "37207a41-7e34-4484-abaf-8ae69cd7daab",
   "metadata": {},
   "outputs": [],
   "source": [
    "#abertura do dataset criado\n",
    "df_balanceado = pd.read_csv('Df_balanceado')"
   ]
  },
  {
   "cell_type": "code",
   "execution_count": 3,
   "id": "46c4acae-4c21-4685-9129-1710a02141fb",
   "metadata": {},
   "outputs": [],
   "source": [
    "#definição das features a serem consideradas:\n",
    "\n",
    "# \"A005012\": Possui água encanada?\n",
    "# \"A018023\": Possui computador?\n",
    "#  \"A01901\": Possui acesso a internet?\n",
    "# \"A2201\": Possui animal de estimação?\n",
    "# \"C011\": É casado?\n",
    "# \"D001\": Sabe ler e escrever?\n",
    "# \"E003\": Fez algum bico na última semana?\n",
    "# \"E011\": Trabalha em quantos empregos?\n",
    "# \"E019\": Quantas horas trabalha na semana?\n",
    "# \"J001\": Estado geral de saúde\n",
    "# \"J007\": Diagnostico de alguma doença de longa duração\n",
    "# \"P00103\": Peso\n",
    "# \"P019\": Alimentação\n",
    "# \"P027\": Faz consumo de bebida alcoolica?\n",
    "# \"P02801\": Bebe quantas vezes na semana?\n",
    "# \"P03201\": Consumiu cinco ou mais doses?\n",
    "# \"P03301\": Deixou de trabalhar por conta do alcool?\n",
    "# \"P03303\": Algum amigo ou familiar advertiu sobre consumo de alcool?\n",
    "# \"P034\": Praticou algum esporte nos últimos três meses?\n",
    "# \"P035\": Pratica esporte ou exercício fisico quantas vezes por semana?\n",
    "# \"P039\": Faz esforço intenso no serviço?\n",
    "# \"P03904\": Quantos dias na semana faz muito esforço\n",
    "# \"P050\": Fuma?\n",
    "# \"P051\": Fumou no passado?\n",
    "\n",
    "features_x = [\n",
    "    \"A005012\", \"A018023\", \"A01901\", \"A2201\", \"C011\", \"D001\", \"E003\", \"E011\", \"E019\",\n",
    "    \"J001\", \"J007\", \"P00103\", \"P019\", \"P027\", \"P02801\", \"P03201\", \"P03301\", \"P03303\",\n",
    "    \"P034\", \"P035\", \"P039\", \"P03904\", \"P050\", \"P051\"\n",
    "]"
   ]
  },
  {
   "cell_type": "code",
   "execution_count": 4,
   "id": "fcb05f99-31a1-499c-98cd-c4f75e9ad0ea",
   "metadata": {},
   "outputs": [],
   "source": [
    "#definir X e Y\n",
    "X = df_balanceado[features_x].apply(pd.to_numeric, errors='coerce').fillna(-1)\n",
    "y = df_balanceado[\"target\"]"
   ]
  },
  {
   "cell_type": "code",
   "execution_count": 5,
   "id": "90fe8f26-4c19-408f-b296-586586b23e81",
   "metadata": {},
   "outputs": [],
   "source": [
    "#normalizar os dados\n",
    "scaler = StandardScaler()\n",
    "X_scaled = scaler.fit_transform(X)"
   ]
  },
  {
   "cell_type": "code",
   "execution_count": 6,
   "id": "4fa49dfb-7fac-463c-b626-4fbd161123f6",
   "metadata": {},
   "outputs": [],
   "source": [
    "X_train, X_test, y_train, y_test = train_test_split(\n",
    "    X_scaled, y, test_size=0.3\n",
    ")"
   ]
  },
  {
   "cell_type": "code",
   "execution_count": 7,
   "id": "1d8e7c23-bdfc-43cc-955d-e2d445ee1adc",
   "metadata": {},
   "outputs": [
    {
     "data": {
      "text/html": [
       "<style>#sk-container-id-1 {color: black;}#sk-container-id-1 pre{padding: 0;}#sk-container-id-1 div.sk-toggleable {background-color: white;}#sk-container-id-1 label.sk-toggleable__label {cursor: pointer;display: block;width: 100%;margin-bottom: 0;padding: 0.3em;box-sizing: border-box;text-align: center;}#sk-container-id-1 label.sk-toggleable__label-arrow:before {content: \"▸\";float: left;margin-right: 0.25em;color: #696969;}#sk-container-id-1 label.sk-toggleable__label-arrow:hover:before {color: black;}#sk-container-id-1 div.sk-estimator:hover label.sk-toggleable__label-arrow:before {color: black;}#sk-container-id-1 div.sk-toggleable__content {max-height: 0;max-width: 0;overflow: hidden;text-align: left;background-color: #f0f8ff;}#sk-container-id-1 div.sk-toggleable__content pre {margin: 0.2em;color: black;border-radius: 0.25em;background-color: #f0f8ff;}#sk-container-id-1 input.sk-toggleable__control:checked~div.sk-toggleable__content {max-height: 200px;max-width: 100%;overflow: auto;}#sk-container-id-1 input.sk-toggleable__control:checked~label.sk-toggleable__label-arrow:before {content: \"▾\";}#sk-container-id-1 div.sk-estimator input.sk-toggleable__control:checked~label.sk-toggleable__label {background-color: #d4ebff;}#sk-container-id-1 div.sk-label input.sk-toggleable__control:checked~label.sk-toggleable__label {background-color: #d4ebff;}#sk-container-id-1 input.sk-hidden--visually {border: 0;clip: rect(1px 1px 1px 1px);clip: rect(1px, 1px, 1px, 1px);height: 1px;margin: -1px;overflow: hidden;padding: 0;position: absolute;width: 1px;}#sk-container-id-1 div.sk-estimator {font-family: monospace;background-color: #f0f8ff;border: 1px dotted black;border-radius: 0.25em;box-sizing: border-box;margin-bottom: 0.5em;}#sk-container-id-1 div.sk-estimator:hover {background-color: #d4ebff;}#sk-container-id-1 div.sk-parallel-item::after {content: \"\";width: 100%;border-bottom: 1px solid gray;flex-grow: 1;}#sk-container-id-1 div.sk-label:hover label.sk-toggleable__label {background-color: #d4ebff;}#sk-container-id-1 div.sk-serial::before {content: \"\";position: absolute;border-left: 1px solid gray;box-sizing: border-box;top: 0;bottom: 0;left: 50%;z-index: 0;}#sk-container-id-1 div.sk-serial {display: flex;flex-direction: column;align-items: center;background-color: white;padding-right: 0.2em;padding-left: 0.2em;position: relative;}#sk-container-id-1 div.sk-item {position: relative;z-index: 1;}#sk-container-id-1 div.sk-parallel {display: flex;align-items: stretch;justify-content: center;background-color: white;position: relative;}#sk-container-id-1 div.sk-item::before, #sk-container-id-1 div.sk-parallel-item::before {content: \"\";position: absolute;border-left: 1px solid gray;box-sizing: border-box;top: 0;bottom: 0;left: 50%;z-index: -1;}#sk-container-id-1 div.sk-parallel-item {display: flex;flex-direction: column;z-index: 1;position: relative;background-color: white;}#sk-container-id-1 div.sk-parallel-item:first-child::after {align-self: flex-end;width: 50%;}#sk-container-id-1 div.sk-parallel-item:last-child::after {align-self: flex-start;width: 50%;}#sk-container-id-1 div.sk-parallel-item:only-child::after {width: 0;}#sk-container-id-1 div.sk-dashed-wrapped {border: 1px dashed gray;margin: 0 0.4em 0.5em 0.4em;box-sizing: border-box;padding-bottom: 0.4em;background-color: white;}#sk-container-id-1 div.sk-label label {font-family: monospace;font-weight: bold;display: inline-block;line-height: 1.2em;}#sk-container-id-1 div.sk-label-container {text-align: center;}#sk-container-id-1 div.sk-container {/* jupyter's `normalize.less` sets `[hidden] { display: none; }` but bootstrap.min.css set `[hidden] { display: none !important; }` so we also need the `!important` here to be able to override the default hidden behavior on the sphinx rendered scikit-learn.org. See: https://github.com/scikit-learn/scikit-learn/issues/21755 */display: inline-block !important;position: relative;}#sk-container-id-1 div.sk-text-repr-fallback {display: none;}</style><div id=\"sk-container-id-1\" class=\"sk-top-container\"><div class=\"sk-text-repr-fallback\"><pre>MLPClassifier(hidden_layer_sizes=(40,), learning_rate=&#x27;adaptive&#x27;, max_iter=5000)</pre><b>In a Jupyter environment, please rerun this cell to show the HTML representation or trust the notebook. <br />On GitHub, the HTML representation is unable to render, please try loading this page with nbviewer.org.</b></div><div class=\"sk-container\" hidden><div class=\"sk-item\"><div class=\"sk-estimator sk-toggleable\"><input class=\"sk-toggleable__control sk-hidden--visually\" id=\"sk-estimator-id-1\" type=\"checkbox\" checked><label for=\"sk-estimator-id-1\" class=\"sk-toggleable__label sk-toggleable__label-arrow\">MLPClassifier</label><div class=\"sk-toggleable__content\"><pre>MLPClassifier(hidden_layer_sizes=(40,), learning_rate=&#x27;adaptive&#x27;, max_iter=5000)</pre></div></div></div></div></div>"
      ],
      "text/plain": [
       "MLPClassifier(hidden_layer_sizes=(40,), learning_rate='adaptive', max_iter=5000)"
      ]
     },
     "execution_count": 7,
     "metadata": {},
     "output_type": "execute_result"
    }
   ],
   "source": [
    "#parâmetros de treinamento\n",
    "mlp = MLPClassifier(hidden_layer_sizes=(40,), \n",
    "                    max_iter=5000,\n",
    "                    learning_rate='adaptive',\n",
    "                    activation='relu',\n",
    "                    solver='adam',\n",
    "                    )\n",
    "mlp.fit(X_train, y_train)"
   ]
  },
  {
   "cell_type": "code",
   "execution_count": 8,
   "id": "f4cf859f-8d1a-4a69-88b0-02355c216912",
   "metadata": {},
   "outputs": [],
   "source": [
    "y_pred = mlp.predict(X_test)"
   ]
  },
  {
   "cell_type": "code",
   "execution_count": 9,
   "id": "af2dc0f3-7fed-4778-b40d-cd1422f0976b",
   "metadata": {},
   "outputs": [
    {
     "name": "stdout",
     "output_type": "stream",
     "text": [
      "Matriz de Confusão:\n",
      "[[2232  431]\n",
      " [ 207 2394]]\n",
      "\n",
      "Relatório de Classificação:\n",
      "              precision    recall  f1-score   support\n",
      "\n",
      "           0     0.9151    0.8382    0.8750      2663\n",
      "           1     0.8474    0.9204    0.8824      2601\n",
      "\n",
      "    accuracy                         0.8788      5264\n",
      "   macro avg     0.8813    0.8793    0.8787      5264\n",
      "weighted avg     0.8817    0.8788    0.8786      5264\n",
      "\n"
     ]
    }
   ],
   "source": [
    "#Resultados\n",
    "print(\"Matriz de Confusão:\")\n",
    "print(confusion_matrix(y_test, y_pred))\n",
    "\n",
    "print(\"\\nRelatório de Classificação:\")\n",
    "print(classification_report(y_test, y_pred, digits=4))"
   ]
  },
  {
   "cell_type": "code",
   "execution_count": null,
   "id": "a3c62735-4a03-4d88-98b1-1416e38d89ed",
   "metadata": {},
   "outputs": [],
   "source": []
  }
 ],
 "metadata": {
  "kernelspec": {
   "display_name": "Python [conda env:base] *",
   "language": "python",
   "name": "conda-base-py"
  },
  "language_info": {
   "codemirror_mode": {
    "name": "ipython",
    "version": 3
   },
   "file_extension": ".py",
   "mimetype": "text/x-python",
   "name": "python",
   "nbconvert_exporter": "python",
   "pygments_lexer": "ipython3",
   "version": "3.11.5"
  }
 },
 "nbformat": 4,
 "nbformat_minor": 5
}
